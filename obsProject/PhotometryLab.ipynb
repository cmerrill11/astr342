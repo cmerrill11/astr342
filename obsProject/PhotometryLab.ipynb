{
 "cells": [
  {
   "cell_type": "markdown",
   "metadata": {},
   "source": [
    "# Data Reduction and Photometry:\n",
    "\n",
    "This lab begins the process of reducing the observing project and using photometry techniques to analyze it. \n",
    "\n",
    "### 1: Bias and Overscan\n",
    "\n",
    "__Define the bias. Include both a description of what it looks like physically, why it\n",
    "occurs, and how we take it into account (how do we remove its effect on our data\n",
    "images?) Your data is from the ARCTIC instrument - it has two modes (one amplifier read\n",
    "out or four amplifier read out).__\n",
    "\n",
    "The bias is the readout of the ccd when it hasn't been exposed to any light. The results of this readout shows that the amplifier has been set to some offset voltage inorder to avoid negative numbers while taking an actual image. What it looks like physically is the entire ccd exposed to light that is very uniform. The noise in a bias scan comes from the electrinics alone. This can be seen below. To take the bias into account"
   ]
  },
  {
   "cell_type": "code",
   "execution_count": null,
   "metadata": {},
   "outputs": [],
   "source": [
    "from astropy.nddata import CCDData\n",
    "from astropy.visualization import hist\n",
    "from pathlib import Path\n",
    "\n",
    "import astropy.io.fits as fits\n",
    "import glob\n",
    "import ccdproc as ccdp\n",
    "import matplotlib.pyplot as plt \n",
    "import numpy as np\n",
    "import pandas as pd\n"
   ]
  },
  {
   "cell_type": "code",
   "execution_count": null,
   "metadata": {},
   "outputs": [],
   "source": [
    "def imagePreview(path, vMin = 5, vMax = 99.7):\n",
    "    \"\"\"\n",
    "    Function that creates plots of all data from fits files at the end of the path passed\n",
    "    Useful for visual inspection of the data\n",
    "    \"\"\"\n",
    "    fileNames = glob.glob(path)\n",
    "    openFits = [ fits.open(a) for a in fileNames]\n",
    "\n",
    "    data = [a[0].data for a in openFits]\n",
    "    fig, ax = plt.subplots(len(fileNames), 1, figsize= (8,8*len(fileNames)) )\n",
    "\n",
    "    for i in range(len(fileNames)):\n",
    "        ax[i].imshow(data[i], vmin=np.percentile(data[i], vMin), vmax=np.percentile(data[i], vMax),\n",
    "                   origin='lower', cmap='binary_r', interpolation='nearest')"
   ]
  },
  {
   "cell_type": "code",
   "execution_count": null,
   "metadata": {},
   "outputs": [],
   "source": [
    "imagePreview('data/CrabNebula*.fits')"
   ]
  },
  {
   "cell_type": "markdown",
   "metadata": {},
   "source": [
    "__Why would we use more than one bias frame__\n",
    "\n",
    "The purpose of combining many bias' is to reduce the read noise in the combined bias."
   ]
  },
  {
   "cell_type": "markdown",
   "metadata": {},
   "source": [
    "The first step will be to fix the headers so that they can actually be read in."
   ]
  },
  {
   "cell_type": "code",
   "execution_count": null,
   "metadata": {},
   "outputs": [],
   "source": [
    "fileNames = glob.glob('data/bias*.fits')\n",
    "imageData = [fits.open(a) for a in fileNames]\n",
    "\n",
    "headers = [a[0].header for a in imageData]\n",
    "for a in headers:\n",
    "    del a['CD1_1']\n",
    "    del a['CD1_2']\n",
    "    del a['CD2_1']\n",
    "    del a['CD2_2']"
   ]
  },
  {
   "cell_type": "code",
   "execution_count": null,
   "metadata": {},
   "outputs": [],
   "source": [
    "for a in range(len(fileNames)):\n",
    "    image = imageData[a]\n",
    "    fits.writeto('data/fixedBias.000{0}.fits'.format(a), image[0].data, headers[a], overwrite = True)"
   ]
  },
  {
   "cell_type": "markdown",
   "metadata": {},
   "source": [
    "Ok now it will be good to look at the headers. Below I define a function to get the headers and create a pandas dataframe since it's a little easier to look at specific columns using those. I also couldve used the ccdproc built in class `ImageFileCollection`"
   ]
  },
  {
   "cell_type": "code",
   "execution_count": null,
   "metadata": {},
   "outputs": [],
   "source": [
    "def getHeaders(path):\n",
    "    \"\"\"\n",
    "    take the headers and make them into a dataframe so\n",
    "    that they can be easily examined\n",
    "    \"\"\"\n",
    "    fileNames = glob.glob(path)\n",
    "    keys = list(imageData[0][0].header.keys())\n",
    "    dic = {}\n",
    "    for i in keys:\n",
    "        dic.update( {i : [a[0].header[i] for a in imageData]} )\n",
    "    imageInfo = pd.DataFrame(data = dic)\n",
    "    return imageInfo"
   ]
  },
  {
   "cell_type": "code",
   "execution_count": null,
   "metadata": {},
   "outputs": [],
   "source": [
    "biasHeaders = getHeaders('data/fixedBias*.fits')\n",
    "biasHeaders[['FILENAME', 'AMPLIST','BSEC11', 'GTGAIN11', 'GTRON11', 'BSEC12',\n",
    "       'GTGAIN12', 'GTRON12', 'BSEC21', 'GTGAIN21',\n",
    "       'GTRON21', 'BSEC22', 'GTGAIN22', 'GTRON22']]"
   ]
  },
  {
   "cell_type": "markdown",
   "metadata": {},
   "source": [
    "Ok Cool, now it looks like these images need to have the overscan trimmed off. That is clear from the columns BSECxx above that show where the overscan regions are. Below I copied and pasted code from the book/website to do that. "
   ]
  },
  {
   "cell_type": "code",
   "execution_count": null,
   "metadata": {},
   "outputs": [],
   "source": [
    "calibrated_bias = Path('data', 'trimmed_bias')\n",
    "calibrated_bias.mkdir(exist_ok = True)\n",
    "\n",
    "obj = CCDData.read(fileNames[0], unit = 'adu') #specific object that is required to use ccdproc"
   ]
  },
  {
   "cell_type": "code",
   "execution_count": null,
   "metadata": {},
   "outputs": [],
   "source": []
  },
  {
   "cell_type": "code",
   "execution_count": null,
   "metadata": {},
   "outputs": [],
   "source": []
  }
 ],
 "metadata": {
  "kernelspec": {
   "display_name": "Python 3",
   "language": "python",
   "name": "python3"
  },
  "language_info": {
   "codemirror_mode": {
    "name": "ipython",
    "version": 3
   },
   "file_extension": ".py",
   "mimetype": "text/x-python",
   "name": "python",
   "nbconvert_exporter": "python",
   "pygments_lexer": "ipython3",
   "version": "3.7.4"
  }
 },
 "nbformat": 4,
 "nbformat_minor": 2
}
