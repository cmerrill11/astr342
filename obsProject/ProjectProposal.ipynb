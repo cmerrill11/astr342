{
 "cells": [
  {
   "cell_type": "code",
   "execution_count": 5,
   "metadata": {},
   "outputs": [],
   "source": [
    "import astropy.io.fits as fits"
   ]
  },
  {
   "cell_type": "code",
   "execution_count": 35,
   "metadata": {},
   "outputs": [
    {
     "name": "stdout",
     "output_type": "stream",
     "text": [
      "Filename: ./data/CrabNebula.0006.fits\n",
      "No.    Name      Ver    Type      Cards   Dimensions   Format\n",
      "  0  PRIMARY       1 PrimaryHDU      89   (2102, 2050)   int16 (rescales to uint16)   \n"
     ]
    }
   ],
   "source": [
    "data_file = \"./data/CrabNebula.0006.fits\"\n",
    "\n",
    "my_fits_file = fits.open(data_file)\n",
    "\n",
    "my_fits_file.info()"
   ]
  },
  {
   "cell_type": "code",
   "execution_count": 36,
   "metadata": {},
   "outputs": [],
   "source": [
    "image_data = my_fits_file[0].data\n",
    "image_header = my_fits_file[0].header"
   ]
  },
  {
   "cell_type": "code",
   "execution_count": 37,
   "metadata": {},
   "outputs": [
    {
     "data": {
      "text/plain": [
       "SIMPLE  =                    T / file does conform to FITS standard             \n",
       "BITPIX  =                   16 / number of bits per data pixel                  \n",
       "NAXIS   =                    2 / number of data axes                            \n",
       "NAXIS1  =                 2102 / length of data axis 1                          \n",
       "NAXIS2  =                 2050 / length of data axis 2                          \n",
       "EXTEND  =                    T / FITS dataset may contain extensions            \n",
       "OBSERVAT= 'APO'                / Per the IRAF observatory list.                 \n",
       "TELESCOP= '3.5m'                                                                \n",
       "INSTRUME= 'arctic'             / Instrument name                                \n",
       "LATITUDE= +3.2780361000000E+01 / Latitude of telescope base                     \n",
       "LONGITUD= -1.0582041700000E+02 / Longitude of telescope base                    \n",
       "TIMESYS = 'TAI'                / Time system for DATE-OBS                       \n",
       "UTC-TAI = -37.0                / UTC = TAI + UTC_TAI(seconds)                   \n",
       "UT1-TAI = -37.16               / UT1 = TAI + UT1_TAI(seconds)                   \n",
       "LST     = '02:35:31.320'       / Local Apperent Sidereal time                   \n",
       "OBJNAME = 'Crab Nebula'        / Object name, per TCC ObjName                   \n",
       "RADECSYS= 'FK5'                / Coordinate system, per TCC ObjSys              \n",
       "EQUINOX = +2.0000000000000E+03 / Equinox, per TCC ObjSys                        \n",
       "OBJANGLE= +0.0000000000000E+00 / Angle from inst x,y to sky                     \n",
       "RA      = '5:34:31.94'         / RA hours, extrapolated from TCC ObjNetPos      \n",
       "DEC     = '22:00:52.20'        / Dec degrees, extrapolated from TCC ObjNetPos   \n",
       "ARCOFFX = +0.0000000000000E+00 / TCC arc offset X                               \n",
       "ARCOFFY = +0.0000000000000E+00 / TCC arc offset Y                               \n",
       "CALOFFX = +0.0000000000000E+00 / TCC calibration offset X                       \n",
       "CALOFFY = +0.0000000000000E+00 / TCC calibration offset Y                       \n",
       "BOREOFFX= +0.0000000000000E+00 / TCC boresight offset X                         \n",
       "BOREOFFY= +0.0000000000000E+00 / TCC boresight offset Y                         \n",
       "AIRPRESS= +7.3396000000000E+04 / Air pressure, Pascals                          \n",
       "HUMIDITY= +5.5000000000000E-01 / Humidity, fraction                             \n",
       "TELAZ   = +8.6562342000000E+01 / TCC AxePos azimuth                             \n",
       "TELALT  = +4.8951216000000E+01 / TCC AxePos altitude                            \n",
       "TELROT  = +2.4282019000000E+01 / TCC AxePos rotator                             \n",
       "TELFOCUS= +4.0000000000000E+02 / TCC SecFocus                                   \n",
       "ZD      = +4.1048784000000E+01 / Zenith distance                                \n",
       "AIRMASS = +1.3259949046731E+00 / 1/cos(ZD)                                      \n",
       "FILENAME= 'CrabNebula.0006.fits'/ original filename                             \n",
       "CTYPE1  = 'RA---TAN'           / WCS projection                                 \n",
       "CTYPE2  = 'DEC--TAN'           / WCS projection                                 \n",
       "CRPIX1  = +1.0000000000000E+03 / WCS reference pixel                            \n",
       "CRPIX2  = +1.0000000000000E+03 / WCS reference pixel                            \n",
       "CRVAL1  = +8.3633083000000E+01 / WCS reference sky pos.                         \n",
       "CRVAL2  = +2.2014500000000E+01 / WCS reference sky pos.                         \n",
       "CD1_1   = -6.4338057891384E-05 / WCS (1/InstScaleX)*cos(InstAng)                \n",
       "CD1_2   = +0.0000000000000E+00 / WCS (1/InstScaleY)*sin(InstAng)                \n",
       "CD2_1   = +0.0000000000000E+00 / WCS (-1/(InstScaleX)*sin(InstAng)              \n",
       "CD2_2   = +6.4050420491011E-05 / WCS (1/InstScaleY)*cos(InstAng)                \n",
       "COMMENT   FITS (Flexible Image Transport System) format is defined in 'Astronomy\n",
       "COMMENT   and Astrophysics', volume 376, page 359; bibcode: 2001A&A...376..359H \n",
       "BZERO   =                32768 / offset data range to that of unsigned short    \n",
       "BSCALE  =                    1 / default scaling factor                         \n",
       "DATE-OBS= '2019-09-04T10:46:21.145299' / TAI time at the start of the exposure  \n",
       "FILPOS  =                    3 / filter position                                \n",
       "FILTER  = 'SDSS r#2'           / filter name                                    \n",
       "BEGX    =                    1 / beginning column of CCD window                 \n",
       "BEGY    =                    1 / beginning row of CCD window                    \n",
       "BINX    =                    2 / column bin factor                              \n",
       "BINY    =                    2 / row bin factor                                 \n",
       "CCDBIN1 =                    2 / column bin factor                              \n",
       "CCDBIN2 =                    2 / row bin factor                                 \n",
       "IMAGETYP= 'Object  '           / exposure type                                  \n",
       "EXPTIME =                  5.0 / estimated exposure time (sec)                  \n",
       "READAMPS= 'Quad    '           / readout amplifier(s)                           \n",
       "READRATE= 'Medium  '           / readout rate                                   \n",
       "CCDHEAD = 'NaN     '           / Unable to retrieve CCD cold head temperature.  \n",
       "CCDTEMP = 'NaN     '           / Unable to retrieve CCD temperature             \n",
       "CCDHEAT = 'NaN     '           / Unable to retrieve CCD heater power            \n",
       "DIFFUPOS= 'OUT     '           / Diffuser positon, in or out of the beam.       \n",
       "DIFFUROT= 'OFF     '           / Diffuser rotating.                             \n",
       "AMPLIST = '11 12 21 22'        / amplifiers read <x><y> e.g. 12=LR              \n",
       "CSEC11  = '[1:2048,1:2048]'    / data section of CCD (unbinned)                 \n",
       "DSEC11  = '[3:1026,1:1024]'    / data section of image (binned)                 \n",
       "BSEC11  = '[1029:1051,1:1024]' / bias section of image (binned)                 \n",
       "GTGAIN11=                 1.97 / predicted gain (e-/ADU)                        \n",
       "GTRON11 =                  3.9 / predicted read noise (e-)                      \n",
       "CSEC12  = '[1:2048,2049:4096]' / data section of CCD (unbinned)                 \n",
       "DSEC12  = '[3:1026,1027:2050]' / data section of image (binned)                 \n",
       "BSEC12  = '[1029:1051,1027:2050]' / bias section of image (binned)              \n",
       "GTGAIN12=                 1.95 / predicted gain (e-/ADU)                        \n",
       "GTRON12 =                  3.9 / predicted read noise (e-)                      \n",
       "CSEC21  = '[2049:4096,1:2048]' / data section of CCD (unbinned)                 \n",
       "DSEC21  = '[1077:2100,1:1024]' / data section of image (binned)                 \n",
       "BSEC21  = '[1052:1074,1:1024]' / bias section of image (binned)                 \n",
       "GTGAIN21=                 1.95 / predicted gain (e-/ADU)                        \n",
       "GTRON21 =                  3.9 / predicted read noise (e-)                      \n",
       "CSEC22  = '[2049:4096,2049:4096]' / data section of CCD (unbinned)              \n",
       "DSEC22  = '[1077:2100,1027:2050]' / data section of image (binned)              \n",
       "BSEC22  = '[1052:1074,1027:2050]' / bias section of image (binned)              \n",
       "GTGAIN22=                 1.97 / predicted gain (e-/ADU)                        \n",
       "GTRON22 =                  3.8 / predicted read noise (e-)                      "
      ]
     },
     "execution_count": 37,
     "metadata": {},
     "output_type": "execute_result"
    }
   ],
   "source": [
    "image_header"
   ]
  },
  {
   "cell_type": "markdown",
   "metadata": {},
   "source": [
    "### Meeting 5/12\n",
    "\n",
    "It is possible to detect it in the optical, whether that is possible with our data we are uncertain\n",
    "\n",
    "Another possibilty is to say something about the size by looking at the angular size in different wavelengths\n",
    "- This would need a 3rd party measurement of distance which exists\n",
    "\n",
    "We can also get flux from different filters\n",
    "- getting the flux from a nubula which is a diffuse source is different and a little more difficult than for a point source but can be done\n",
    "- another way is simply to say\n",
    "\n",
    "Idea is to start using our data to do photometric measurements, and we can adjust what the object of the paper is about according to what is possible from our data. \n",
    "\n",
    "Really at the moment we should start by doing photometric measurments on our data. \n",
    "\n",
    "First Draft: \n",
    "\n",
    "Look at literature and see what measurements are done there and see if there is anything that you can replicate. \n",
    "\n",
    "THIS WEEK: Determine what measurements can be done and more or less how to make them. \n",
    "\n"
   ]
  },
  {
   "cell_type": "code",
   "execution_count": null,
   "metadata": {},
   "outputs": [],
   "source": []
  }
 ],
 "metadata": {
  "kernelspec": {
   "display_name": "Python 3",
   "language": "python",
   "name": "python3"
  },
  "language_info": {
   "codemirror_mode": {
    "name": "ipython",
    "version": 3
   },
   "file_extension": ".py",
   "mimetype": "text/x-python",
   "name": "python",
   "nbconvert_exporter": "python",
   "pygments_lexer": "ipython3",
   "version": "3.7.4"
  }
 },
 "nbformat": 4,
 "nbformat_minor": 4
}
